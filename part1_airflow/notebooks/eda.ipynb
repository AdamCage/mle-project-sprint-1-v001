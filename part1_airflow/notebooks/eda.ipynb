{
 "cells": [
  {
   "cell_type": "markdown",
   "metadata": {},
   "source": [
    "# Imports"
   ]
  },
  {
   "cell_type": "code",
   "execution_count": null,
   "metadata": {},
   "outputs": [],
   "source": [
    "import os\n",
    "from dotenv import load_dotenv\n",
    "import warnings\n",
    "\n",
    "import pandas as pd\n",
    "import numpy as np\n",
    "\n",
    "from sqlalchemy import create_engine, text as sql_text\n",
    "\n",
    "import matplotlib.pyplot as plt\n",
    "import seaborn as sns\n",
    "\n",
    "import plotly.express as px\n",
    "import plotly.graph_objects as go\n",
    "\n",
    "from sklearn.decomposition import PCA\n",
    "from sklearn.manifold import TSNE\n",
    "\n",
    "from geopy.distance import geodesic"
   ]
  },
  {
   "cell_type": "markdown",
   "metadata": {},
   "source": [
    "# Config"
   ]
  },
  {
   "cell_type": "code",
   "execution_count": null,
   "metadata": {},
   "outputs": [],
   "source": [
    "# Warnings\n",
    "warnings.filterwarnings(\"ignore\")\n",
    "\n",
    "# .env loading\n",
    "dotenv_path = \"../.env\"\n",
    "load_dotenv(dotenv_path)\n",
    "\n",
    "# DB connection\n",
    "DB_CONFIG = {\n",
    "    \"user\": os.getenv(\"DB_DESTINATION_USER\"),\n",
    "    \"pwd\": os.getenv(\"DB_DESTINATION_PASSWORD\"),\n",
    "    \"host\": os.getenv(\"DB_DESTINATION_HOST\"),\n",
    "    \"port\": os.getenv(\"DB_DESTINATION_PORT\"),\n",
    "    \"db\": os.getenv(\"DB_DESTINATION_NAME\")\n",
    "}\n",
    "\n",
    "CONNECTION_STR = \"postgresql://{}:{}@{}:{}/{}\".format(\n",
    "    DB_CONFIG[\"user\"],\n",
    "    DB_CONFIG[\"pwd\"],\n",
    "    DB_CONFIG[\"host\"],\n",
    "    DB_CONFIG[\"port\"],\n",
    "    DB_CONFIG[\"db\"]\n",
    ")\n",
    "\n",
    "ENGINE = create_engine(\n",
    "    CONNECTION_STR + \"?options=--transaction-mode=autocommits?slmode=disable\",\n",
    "    isolation_level=None\n",
    ")\n",
    "\n",
    "TARGET = \"price\"\n",
    "\n",
    "# Style and output options\n",
    "sns.set_theme(style=\"white\")\n",
    "\n",
    "pd.options.display.max_rows = 1024\n",
    "pd.options.display.max_columns = 1024\n",
    "pd.set_option(\"display.max_colwidth\", 128)\n",
    "\n",
    "\n",
    "print(DB_CONFIG)\n",
    "print(CONNECTION_STR)\n",
    "print(ENGINE)"
   ]
  },
  {
   "cell_type": "markdown",
   "metadata": {},
   "source": [
    "# Functions"
   ]
  },
  {
   "cell_type": "code",
   "execution_count": null,
   "metadata": {},
   "outputs": [],
   "source": [
    "def df_quik_view(df, drop2dubs=None, asc=False):\n",
    "    unique_values = [\n",
    "        df[col].sort_values(ascending=asc).astype(str).unique()\n",
    "        for col in df.columns\n",
    "    ]\n",
    "    duplicates_num = [\n",
    "        df[col].duplicated(keep=False).sum()\n",
    "        for col in df.columns\n",
    "    ]\n",
    "    nans = df.isna().sum()\n",
    "\n",
    "    table_scan = pd.DataFrame(\n",
    "        {\n",
    "            \"values_num\":     df.count(),\n",
    "            \"nulls_num\":      nans,\n",
    "            \"completeness\":   100 - (nans / (nans + df.notna().sum()) * 100),\n",
    "            \"uniques_num\":    df.astype(str).nunique(),\n",
    "            \"unique_values\":  unique_values,\n",
    "            \"duplicates_num\": duplicates_num,\n",
    "            \"dtype\":          df.dtypes\n",
    "        }\n",
    "    )\n",
    "\n",
    "    df_shape = df.shape\n",
    "    duplicates = df.duplicated(\n",
    "        subset=df.columns.drop(drop2dubs) if drop2dubs is not None else None\n",
    "    ).sum()\n",
    "    memory = df.memory_usage(index=False).sum() / 1_000_00\n",
    "\n",
    "    print(\"General data analysis:\")\n",
    "    print()\n",
    "    print(\"Shape of the table:     \", df_shape)\n",
    "    print(\"Duplicates in the table: {}, ({}%)\"\n",
    "          .format(duplicates, round(duplicates / df_shape[0], 4) * 100)\n",
    "          +(f\" (without {drop2dubs})\" if drop2dubs is not None else \" \")\n",
    "         )\n",
    "    print(\"Memory usage:            \" + str(round(memory, 1)) + \"+ MB\")\n",
    "    print()\n",
    "\n",
    "    return table_scan\n",
    "\n",
    "\n",
    "def plot_boxplot(data, feature, target=None):\n",
    "    plt.figure(figsize=(10, 6))\n",
    "    \n",
    "    if target:\n",
    "        sns.boxplot(data=data, x=target, y=feature, fliersize=5, linewidth=2)\n",
    "    else:\n",
    "        sns.boxplot(data=data, y=feature, fliersize=5, linewidth=2)\n",
    "    \n",
    "    plt.title(f\"{feature} distribution\")\n",
    "    plt.xlabel(target if target else '')\n",
    "    plt.ylabel(feature)\n",
    "    plt.grid(True)\n",
    "    plt.gca().set_facecolor('white')\n",
    "    \n",
    "    plt.show()\n",
    "\n",
    "\n",
    "def plot_histogram(data, feature, target=None, bins=100):\n",
    "    plt.figure(figsize=(10, 6))\n",
    "    \n",
    "    if target:\n",
    "        sns.histplot(data=data.sort_values(by=target), x=feature, hue=target, bins=bins, kde=False, element=\"bars\", alpha=0.8)\n",
    "    else:\n",
    "        sns.histplot(data=data, x=feature, bins=bins, kde=False, element=\"bars\", alpha=0.8)\n",
    "    \n",
    "    plt.title(f\"{feature} distribution\")\n",
    "    plt.xlabel(feature)\n",
    "    plt.ylabel(\"Amount\")\n",
    "    plt.grid(True)\n",
    "    plt.gca().set_facecolor(\"white\")\n",
    "\n",
    "    plt.show()\n",
    "\n",
    "\n",
    "def plot_ecdf(data, feature, target=None):\n",
    "    plt.figure(figsize=(10, 6))\n",
    "    \n",
    "    if target:\n",
    "        sns.ecdfplot(data=data, x=feature, hue=target, alpha=0.8)\n",
    "    else:\n",
    "        sns.ecdfplot(data=data, x=feature, alpha=0.8)\n",
    "    \n",
    "    plt.title(f\"{feature} ECDF\")\n",
    "    plt.xlabel(feature)\n",
    "    plt.ylabel(\"Probability\")\n",
    "    plt.grid(True)\n",
    "    plt.gca().set_facecolor(\"white\")\n",
    "    \n",
    "    plt.show()\n",
    "\n",
    "\n",
    "def plot_scalar_feature(data, feature, target=None, bins=100):\n",
    "    plot_boxplot(data, feature, target)\n",
    "    plot_histogram(data, feature, target, bins)\n",
    "    plot_ecdf(data, feature, target)\n",
    "    print(f\"{feature} statistics:\")\n",
    "    print()\n",
    "    print(data[feature].describe())\n",
    "\n",
    "\n",
    "def check_is_inside_mkad(lat, lon, center, radius):\n",
    "    point = (lat, lon)\n",
    "    distance = geodesic(center, point).kilometers\n",
    "    return distance <= radius\n",
    "\n",
    "\n",
    "def plot_scatter(data, x, y, kde_frac=0.1):\n",
    "    fig, ax = plt.subplots(figsize=(6, 6))\n",
    "    sns.scatterplot(data=data, x=x, y=y, s=5, color=\".15\")\n",
    "    sns.histplot(data=data, x=x, y=y, bins=50, pthresh=0.1, cmap=\"mako\")\n",
    "    sns.kdeplot(data=data.sample(frac=kde_frac), x=x, y=y, levels=5,\n",
    "                color=\"black\", linewidth=1)\n",
    "    plt.show()\n",
    "\n",
    "\n",
    "def show_feature_info(data_info, feature):\n",
    "    print(\"PARAMETER:\", feature, \"\\n\")\n",
    "    if feature in data_info.columns:\n",
    "        print(data_info.loc[feature])\n",
    "\n",
    "\n",
    "def make_scalar_eda(data, feature, data_info):\n",
    "    show_feature_info(data_info, feature)\n",
    "    plot_scalar_feature(data, feature)\n",
    "    # plot_scatter(data, feature, TARGET)\n",
    "\n",
    "\n",
    "def plot_bar(data, feature, y=\"id\"):\n",
    "    pivot_data = data.pivot_table(index=feature, values=y, aggfunc=\"count\")\n",
    "    sns.barplot(pivot_data, x=feature, y=y, label=\"Amount\")\n",
    "    plt.show()\n",
    "\n",
    "\n",
    "def make_categorical_eda(data, feature, data_info):\n",
    "    show_feature_info(data_info, feature)\n",
    "    plot_bar(data, feature)\n",
    "    plot_boxplot(data, TARGET, feature)\n",
    "    plot_histogram(data, TARGET, feature)\n",
    "    plot_ecdf(data, TARGET, feature)\n",
    "\n",
    "\n",
    "def get_iqr_bounds(data, col, threshold=1.5):\n",
    "    IQR = data[col].quantile(0.75) - data[col].quantile(0.25)\n",
    "    up_bound = data[col].quantile(0.75) + (IQR * threshold)\n",
    "    low_bound = data[col].quantile(0.25) - (IQR * threshold)\n",
    "\n",
    "    return up_bound, low_bound"
   ]
  },
  {
   "cell_type": "markdown",
   "metadata": {},
   "source": [
    "# Data Loading"
   ]
  },
  {
   "cell_type": "code",
   "execution_count": null,
   "metadata": {},
   "outputs": [],
   "source": [
    "query = \"\"\"\n",
    "    SELECT *\n",
    "      FROM yandex_real_estate_data;\n",
    "\"\"\"\n",
    "\n",
    "data = pd.read_sql_query(\n",
    "    sql=sql_text(query),\n",
    "    con=ENGINE.connect()\n",
    ")\n",
    "\n",
    "data = data.replace(\"true\", 1).replace(\"false\", 0)\n",
    "\n",
    "ids_colums = [col for col in data.columns if col.endswith(\"id\")]\n",
    "\n",
    "data.head()"
   ]
  },
  {
   "cell_type": "code",
   "execution_count": null,
   "metadata": {},
   "outputs": [],
   "source": [
    "data_info = df_quik_view(data, ids_colums)\n",
    "data_info"
   ]
  },
  {
   "cell_type": "markdown",
   "metadata": {},
   "source": [
    "# EDA & processing"
   ]
  },
  {
   "cell_type": "markdown",
   "metadata": {},
   "source": [
    "## Drop duplicates"
   ]
  },
  {
   "cell_type": "code",
   "execution_count": null,
   "metadata": {},
   "outputs": [],
   "source": [
    "data = data.drop_duplicates(\n",
    "    subset=data.columns.drop(ids_colums)\n",
    ")\n",
    "data.shape"
   ]
  },
  {
   "cell_type": "markdown",
   "metadata": {},
   "source": [
    "## Price (target)"
   ]
  },
  {
   "cell_type": "code",
   "execution_count": null,
   "metadata": {},
   "outputs": [],
   "source": [
    "print(\"PARAMETER:\", TARGET, \"\\n\")\n",
    "print(data_info.loc[TARGET])\n",
    "plot_scalar_feature(data, TARGET)"
   ]
  },
  {
   "cell_type": "code",
   "execution_count": null,
   "metadata": {},
   "outputs": [],
   "source": [
    "print(\"Observation number\", data.shape)\n",
    "data = data[(data[TARGET] >= 1e+6) & (data[TARGET] <= 1.5e+8)]\n",
    "print(\"Observations number after discarding observations with extreme prices:\", data.shape)"
   ]
  },
  {
   "cell_type": "code",
   "execution_count": null,
   "metadata": {},
   "outputs": [],
   "source": [
    "# plot_scalar_feature(data, TARGET)"
   ]
  },
  {
   "cell_type": "markdown",
   "metadata": {},
   "source": [
    "## Latitude & longitude"
   ]
  },
  {
   "cell_type": "code",
   "execution_count": null,
   "metadata": {},
   "outputs": [],
   "source": [
    "# # Центр Москвы (Красная площадь)\n",
    "# center_moscow = (55.751244, 37.618423)\n",
    "# radius_mkad_km = 20  # Радиус МКАДа в километрах\n",
    "\n",
    "# data[\"inside_mkad\"] = data.apply(\n",
    "#     lambda row: check_is_inside_mkad(\n",
    "#         row[\"latitude\"],\n",
    "#         row[\"longitude\"],\n",
    "#         center_moscow,\n",
    "#         radius_mkad_km\n",
    "#     ), axis=1\n",
    "# ).astype(int)\n",
    "# data[\"inside_mkad\"].value_counts()"
   ]
  },
  {
   "cell_type": "code",
   "execution_count": null,
   "metadata": {},
   "outputs": [],
   "source": [
    "# data = data[data[\"inside_mkad\"] == 1].reset_index(drop=True)\n",
    "# data.shape"
   ]
  },
  {
   "cell_type": "code",
   "execution_count": null,
   "metadata": {},
   "outputs": [],
   "source": [
    "# fig = px.scatter_mapbox(\n",
    "#     data, lat=\"latitude\", lon=\"longitude\", color=\"inside_mkad\", zoom=14, height=600)\n",
    "# fig.update_layout(mapbox_style=\"open-street-map\")\n",
    "# fig.show()"
   ]
  },
  {
   "cell_type": "markdown",
   "metadata": {},
   "source": [
    "## latitude"
   ]
  },
  {
   "cell_type": "code",
   "execution_count": null,
   "metadata": {},
   "outputs": [],
   "source": [
    "make_scalar_eda(data, \"latitude\", data_info)"
   ]
  },
  {
   "cell_type": "markdown",
   "metadata": {},
   "source": [
    "## longitude"
   ]
  },
  {
   "cell_type": "code",
   "execution_count": null,
   "metadata": {},
   "outputs": [],
   "source": [
    "make_scalar_eda(data, \"longitude\", data_info)"
   ]
  },
  {
   "cell_type": "markdown",
   "metadata": {},
   "source": [
    "## build_year"
   ]
  },
  {
   "cell_type": "code",
   "execution_count": null,
   "metadata": {},
   "outputs": [],
   "source": [
    "make_scalar_eda(data, \"build_year\", data_info)"
   ]
  },
  {
   "cell_type": "markdown",
   "metadata": {},
   "source": [
    "## building_type_int"
   ]
  },
  {
   "cell_type": "code",
   "execution_count": null,
   "metadata": {},
   "outputs": [],
   "source": [
    "make_categorical_eda(data, \"building_type_int\", data_info)"
   ]
  },
  {
   "cell_type": "markdown",
   "metadata": {},
   "source": [
    "## ceiling_height"
   ]
  },
  {
   "cell_type": "code",
   "execution_count": null,
   "metadata": {},
   "outputs": [],
   "source": [
    "make_scalar_eda(data, \"ceiling_height\", data_info)"
   ]
  },
  {
   "cell_type": "markdown",
   "metadata": {},
   "source": [
    "## flats_count"
   ]
  },
  {
   "cell_type": "code",
   "execution_count": null,
   "metadata": {},
   "outputs": [],
   "source": [
    "make_scalar_eda(data, \"flats_count\", data_info)"
   ]
  },
  {
   "cell_type": "markdown",
   "metadata": {},
   "source": [
    "## floors_total"
   ]
  },
  {
   "cell_type": "code",
   "execution_count": null,
   "metadata": {},
   "outputs": [],
   "source": [
    "make_scalar_eda(data, \"floors_total\", data_info)"
   ]
  },
  {
   "cell_type": "markdown",
   "metadata": {},
   "source": [
    "## has_elevator"
   ]
  },
  {
   "cell_type": "code",
   "execution_count": null,
   "metadata": {},
   "outputs": [],
   "source": [
    "make_categorical_eda(data, \"has_elevator\", data_info)"
   ]
  },
  {
   "cell_type": "markdown",
   "metadata": {},
   "source": [
    "## floor"
   ]
  },
  {
   "cell_type": "code",
   "execution_count": null,
   "metadata": {},
   "outputs": [],
   "source": [
    "make_scalar_eda(data, \"floor\", data_info)"
   ]
  },
  {
   "cell_type": "markdown",
   "metadata": {},
   "source": [
    "## kitchen_area"
   ]
  },
  {
   "cell_type": "code",
   "execution_count": null,
   "metadata": {},
   "outputs": [],
   "source": [
    "make_scalar_eda(data, \"kitchen_area\", data_info)"
   ]
  },
  {
   "cell_type": "markdown",
   "metadata": {},
   "source": [
    "## living_area"
   ]
  },
  {
   "cell_type": "code",
   "execution_count": null,
   "metadata": {},
   "outputs": [],
   "source": [
    "make_scalar_eda(data, \"living_area\", data_info)"
   ]
  },
  {
   "cell_type": "markdown",
   "metadata": {},
   "source": [
    "## rooms"
   ]
  },
  {
   "cell_type": "code",
   "execution_count": null,
   "metadata": {},
   "outputs": [],
   "source": [
    "make_scalar_eda(data, \"rooms\", data_info)"
   ]
  },
  {
   "cell_type": "markdown",
   "metadata": {},
   "source": [
    "## is_apartment"
   ]
  },
  {
   "cell_type": "code",
   "execution_count": null,
   "metadata": {},
   "outputs": [],
   "source": [
    "make_categorical_eda(data, \"is_apartment\", data_info)"
   ]
  },
  {
   "cell_type": "markdown",
   "metadata": {},
   "source": [
    "## studio"
   ]
  },
  {
   "cell_type": "code",
   "execution_count": null,
   "metadata": {},
   "outputs": [],
   "source": [
    "print(data[\"studio\"].value_counts(dropna=False))\n",
    "data = data.drop(\"studio\", axis=1)"
   ]
  },
  {
   "cell_type": "markdown",
   "metadata": {},
   "source": [
    "## total_area"
   ]
  },
  {
   "cell_type": "code",
   "execution_count": null,
   "metadata": {},
   "outputs": [],
   "source": [
    "make_scalar_eda(data, \"total_area\", data_info)"
   ]
  },
  {
   "cell_type": "markdown",
   "metadata": {},
   "source": [
    "# Anomalies visualization"
   ]
  },
  {
   "cell_type": "code",
   "execution_count": null,
   "metadata": {},
   "outputs": [],
   "source": [
    "data[\"is_anomaly\"] = 0\n",
    "for col in data.columns.drop(ids_colums + [\"building_type_int\"]):\n",
    "    up_bound, low_bound = get_iqr_bounds(data, col)\n",
    "    data[\"is_anomaly\"] = np.where(\n",
    "        data[col].between(low_bound, up_bound),\n",
    "        data[\"is_anomaly\"],\n",
    "        1\n",
    "    )\n",
    "\n",
    "print(data.shape)\n",
    "ds = data.copy()\n",
    "ds = ds[ds[\"is_anomaly\"] == 0].reset_index(drop=True)\n",
    "ds.shape"
   ]
  },
  {
   "cell_type": "code",
   "execution_count": null,
   "metadata": {},
   "outputs": [],
   "source": [
    "df_quik_view(ds, ids_colums)"
   ]
  },
  {
   "cell_type": "code",
   "execution_count": null,
   "metadata": {},
   "outputs": [],
   "source": [
    "features2drop = [\n",
    "    \"studio\", \"is_anomaly\", \"inside_mkad\", \"is_apartment\", \"inside_mkad\",\n",
    "    \"is_anomaly\", \"has_elevator\"\n",
    "]\n",
    "ds = ds.drop(features2drop, axis=1)"
   ]
  },
  {
   "cell_type": "markdown",
   "metadata": {},
   "source": [
    "# Corr"
   ]
  },
  {
   "cell_type": "code",
   "execution_count": null,
   "metadata": {},
   "outputs": [],
   "source": [
    "corr_matrix = ds.drop(\n",
    "    ids_colums + [\"building_type_int\"],\n",
    "    axis=1\n",
    ").corr(method=\"spearman\")\n",
    "\n",
    "plt.figure(figsize=(10,10))\n",
    "sns.heatmap(corr_matrix, annot=True, fmt='.2f')\n",
    "plt.show()"
   ]
  },
  {
   "cell_type": "code",
   "execution_count": null,
   "metadata": {},
   "outputs": [],
   "source": []
  }
 ],
 "metadata": {
  "kernelspec": {
   "display_name": ".venv_mle-project-sprint-1",
   "language": "python",
   "name": "python3"
  },
  "language_info": {
   "codemirror_mode": {
    "name": "ipython",
    "version": 3
   },
   "file_extension": ".py",
   "mimetype": "text/x-python",
   "name": "python",
   "nbconvert_exporter": "python",
   "pygments_lexer": "ipython3",
   "version": "3.10.12"
  }
 },
 "nbformat": 4,
 "nbformat_minor": 2
}
